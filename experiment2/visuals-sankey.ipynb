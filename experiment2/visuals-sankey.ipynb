{
 "cells": [
  {
   "cell_type": "markdown",
   "metadata": {},
   "source": [
    "# Planning with Linear Programming"
   ]
  },
  {
   "cell_type": "markdown",
   "metadata": {},
   "source": [
    "## Input Data"
   ]
  },
  {
   "cell_type": "code",
   "execution_count": 1,
   "metadata": {},
   "outputs": [],
   "source": [
    "import pandas as pd\n",
    "\n",
    "flow = pd.read_csv('flows.csv')\n",
    "\n",
    "targets = flow['headings'].values[0:-1]\n",
    "products = targets[0:-1]"
   ]
  },
  {
   "cell_type": "code",
   "execution_count": 3,
   "metadata": {},
   "outputs": [],
   "source": [
    "from pysankey import sankey\n",
    "from IPython.display import Image\n",
    "\n",
    "sankey_inputs = []\n",
    "sankey_products = []\n",
    "sankey_flows = []\n",
    "for p in products:\n",
    "    for counter, the_input in enumerate(targets):\n",
    "        if (flow[p][counter] > 0):\n",
    "            sankey_inputs.append(the_input)\n",
    "            sankey_products.append(p)\n",
    "            sankey_flows.append(flow[p][counter])\n",
    "sankey(\n",
    "    left=sankey_inputs, right=sankey_products, rightWeight=sankey_flows, aspect=20,\n",
    "    fontsize=10, figureName='out/product_flows'\n",
    ")"
   ]
  },
  {
   "cell_type": "markdown",
   "metadata": {},
   "source": [
    "![Product Flows](out/product_flows.png)"
   ]
  }
 ],
 "metadata": {
  "kernelspec": {
   "display_name": "Python [conda env:planning]",
   "language": "python",
   "name": "conda-env-planning-py"
  },
  "language_info": {
   "codemirror_mode": {
    "name": "ipython",
    "version": 3
   },
   "file_extension": ".py",
   "mimetype": "text/x-python",
   "name": "python",
   "nbconvert_exporter": "python",
   "pygments_lexer": "ipython3",
   "version": "3.7.0"
  }
 },
 "nbformat": 4,
 "nbformat_minor": 2
}
